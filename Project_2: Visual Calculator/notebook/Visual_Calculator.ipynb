{
 "cells": [
  {
   "cell_type": "markdown",
   "metadata": {
    "id": "k17Di__JzjUy"
   },
   "source": [
    "## Setting Up Data\n",
    "\n",
    "Copied to local folder and set later root_folder variable according to it\n",
    "\n",
    "Install also scipy. Indirect use."
   ]
  },
  {
   "cell_type": "code",
   "execution_count": null,
   "metadata": {
    "colab": {
     "base_uri": "https://localhost:8080/"
    },
    "id": "BdzLxg7Szi6h",
    "outputId": "fce4a090-0fd9-47c7-d6bf-82cd6cf9cdcb"
   },
   "outputs": [],
   "source": [
    "root_folder = '/home/juha/PycharmProjects/Sandbox_Deep-learning-using-Tensorflow-Lite-on-Raspberry-Pi/Project_2: Visual Calculator'\n",
    "path_to_data = root_folder + '/data/extracted_images/'"
   ]
  },
  {
   "cell_type": "markdown",
   "metadata": {
    "id": "F2TbBTzw0J_e"
   },
   "source": [
    "## Data Processing Pipeline"
   ]
  },
  {
   "cell_type": "markdown",
   "metadata": {
    "id": "dR5wu6MD0PRs"
   },
   "source": [
    "#### Data generators"
   ]
  },
  {
   "cell_type": "code",
   "execution_count": null,
   "metadata": {
    "id": "5Sm5GQ6K0WJ-"
   },
   "outputs": [],
   "source": [
    "# from keras.preprocessing.image import ImageDataGenerator\n",
    "from tensorflow.keras.preprocessing.image import ImageDataGenerator"
   ]
  },
  {
   "cell_type": "code",
   "execution_count": null,
   "metadata": {
    "id": "5Sm5GQ6K0WJ-"
   },
   "outputs": [],
   "source": [
    "\n",
    "import matplotlib.pyplot as plt\n",
    "from keras.models import Sequential\n",
    "from keras.layers import Conv2D, MaxPooling2D, Flatten, Dense\n",
    "from keras.preprocessing import image\n",
    "import tensorflow as tf\n",
    "import numpy as np\n",
    "import os\n",
    "import time"
   ]
  },
  {
   "cell_type": "code",
   "execution_count": null,
   "metadata": {
    "colab": {
     "base_uri": "https://localhost:8080/"
    },
    "id": "gQYzxp4n0NyU",
    "outputId": "ffc12a7d-6843-4bbb-fe44-39fadcea1d15"
   },
   "outputs": [],
   "source": [
    "data_gen = ImageDataGenerator(shear_range=0.2,zoom_range=0.2,rescale=1./255 ,validation_split=0.2)\n",
    "\n",
    "#path_to_data = '/data/extracted_images/'\n",
    "\n",
    "training_dataset = data_gen.flow_from_directory(path_to_data,(128,128),subset=\"training\" ,color_mode='grayscale')\n",
    "\n",
    "validation_dataset = data_gen.flow_from_directory(path_to_data,(128,128),subset=\"validation\",color_mode='grayscale')\n"
   ]
  },
  {
   "cell_type": "markdown",
   "metadata": {
    "id": "2dgNtdZB2FGw"
   },
   "source": [
    "### Exploring Our Dataset"
   ]
  },
  {
   "cell_type": "code",
   "execution_count": null,
   "metadata": {
    "colab": {
     "base_uri": "https://localhost:8080/"
    },
    "id": "TUCnWaj017Ee",
    "outputId": "19411d66-2972-4f68-98c7-bb314a806103"
   },
   "outputs": [],
   "source": [
    "print(training_dataset.class_indices)\n",
    "labels = [\"divide\" , \"eight\",\"five\",\"four\",\"min\",\"mul\",\"nine\",\"one\",\"plus\",\"seven\",\"six\",\"three\",\"two\"]"
   ]
  },
  {
   "cell_type": "markdown",
   "metadata": {
    "id": "e5zwgJ8p2prx"
   },
   "source": [
    "### Visualize Data"
   ]
  },
  {
   "cell_type": "code",
   "execution_count": null,
   "metadata": {
    "id": "2FOphg9K2QGq"
   },
   "outputs": [],
   "source": [
    "def plotImages(images_arr):\n",
    "    fig, axes = plt.subplots(1, 6, figsize=(20,20))\n",
    "    for img, ax in zip( images_arr, axes):\n",
    "        ax.imshow(img)\n",
    "        ax.axis('off')\n",
    "    plt.tight_layout()\n",
    "    plt.show()\n",
    "training_images, _ = next(training_dataset)\n",
    "plotImages(training_images[:6])"
   ]
  },
  {
   "cell_type": "markdown",
   "metadata": {
    "id": "2KKGqdJz3TcL"
   },
   "source": [
    "## Implementing the Model"
   ]
  },
  {
   "cell_type": "code",
   "execution_count": null,
   "metadata": {
    "colab": {
     "base_uri": "https://localhost:8080/"
    },
    "id": "FfjPsmCU3WBp",
    "outputId": "887bd63f-9c2d-4d80-dd97-c53796729632"
   },
   "outputs": [],
   "source": [
    "# initialising the CNN\n",
    "visual_calculator_model = Sequential()\n",
    "\n",
    "# convolution to extract features from images\n",
    "visual_calculator_model.add(Conv2D(32, (3, 3), input_shape = (128, 128, 1), activation = 'relu'))\n",
    "\n",
    "# max pooling to get max / largest values in feature map\n",
    "# down sampling technique to get the most present features\n",
    "visual_calculator_model.add(MaxPooling2D(pool_size = (2, 2)))\n",
    "\n",
    "# more convolution and max pooling layers\n",
    "visual_calculator_model.add(Conv2D(64, (3, 3), activation = 'relu'))\n",
    "visual_calculator_model.add(MaxPooling2D(pool_size = (2, 2)))\n",
    "visual_calculator_model.add(Conv2D(128, (3, 3), activation = 'relu'))\n",
    "visual_calculator_model.add(MaxPooling2D(pool_size = (2, 2)))\n",
    "visual_calculator_model.add(Conv2D(256, (3, 3), activation = 'relu'))\n",
    "visual_calculator_model.add(MaxPooling2D(pool_size = (2, 2)))\n",
    "\n",
    "# flattening is converting the data into a 1-dimensional array\n",
    "visual_calculator_model.add(Flatten())\n",
    "visual_calculator_model.add(Dense(units = 1024, activation = 'relu'))\n",
    "visual_calculator_model.add(Dense(units = 13, activation = 'softmax'))\n",
    "\n",
    "# compiling the CNN\n",
    "visual_calculator_model.compile(optimizer = 'adam', loss = 'categorical_crossentropy', metrics = ['accuracy'])\n",
    "\n",
    "# show summary of the created model\n",
    "visual_calculator_model.summary()"
   ]
  },
  {
   "cell_type": "code",
   "execution_count": null,
   "metadata": {
    "colab": {
     "base_uri": "https://localhost:8080/"
    },
    "id": "xWQBH3fg7ZCB",
    "outputId": "521b8dac-c56f-470b-e47a-5a27834d3865"
   },
   "outputs": [],
   "source": [
    "history = visual_calculator_model.fit(training_dataset , epochs =15 ,validation_data= validation_dataset, callbacks=tf.keras.callbacks.EarlyStopping(verbose=1, patience=2) )"
   ]
  },
  {
   "cell_type": "code",
   "execution_count": null,
   "metadata": {
    "id": "hmQvrLYY8Nri"
   },
   "outputs": [],
   "source": [
    "# Note: '\"/content' replaced to 'root_folder +\"'\n",
    "# # Legacy to be replaced: \n",
    "# current warning is visual_calculator_model.save_weights(root_folder +\"/content/vc_model.weights.h5\")\n",
    "visual_calculator_model.save(root_folder +\"/vc_model.h5\")\n",
    "#visual_calculator_model.save(root_folder + \"/vc_model.keras\")"
   ]
  },
  {
   "cell_type": "code",
   "execution_count": null,
   "metadata": {
    "id": "m4CVLuxCHdJZ"
   },
   "outputs": [],
   "source": [
    "visual_calculator_model.save_weights(root_folder +\"/vc_model.weights.h5\")"
   ]
  },
  {
   "cell_type": "markdown",
   "metadata": {
    "id": "ImhUWLEBHWwV"
   },
   "source": [
    "## Testing model"
   ]
  },
  {
   "cell_type": "markdown",
   "metadata": {
    "id": "49G4eFPZ8sWu"
   },
   "source": [
    "Prediction - Accuracy"
   ]
  },
  {
   "cell_type": "code",
   "execution_count": null,
   "metadata": {
    "colab": {
     "base_uri": "https://localhost:8080/",
     "height": 355
    },
    "id": "EpwuHRAQ7s8N",
    "outputId": "6015c9ce-5953-4450-caff-f06625dc069c"
   },
   "outputs": [],
   "source": [
    "testing_image = image.load_img(root_folder +'/data/extracted_images/nine/10.jpg', color_mode=\"grayscale\",target_size=(128,128))\n",
    "plt.imshow(testing_image)\n",
    "\n",
    "testing_image = image.img_to_array(testing_image)\n",
    "print(testing_image.dtype)\n",
    "print(testing_image.shape)\n",
    "\n",
    "testing_image = np.expand_dims(testing_image , axis=0)\n",
    "print(testing_image.shape)\n",
    "prediction_result = visual_calculator_model.predict(testing_image)\n",
    "print(\"Model Predictions :\", labels[np.argmax(prediction_result)] , \"\\n\" )"
   ]
  },
  {
   "cell_type": "markdown",
   "metadata": {
    "id": "nX1DPygC8v4a"
   },
   "source": [
    "LOSS - Validation Metrices"
   ]
  },
  {
   "cell_type": "code",
   "execution_count": null,
   "metadata": {
    "colab": {
     "base_uri": "https://localhost:8080/"
    },
    "id": "3cbH2U0z80JE",
    "outputId": "c9476425-1093-4b36-d78b-ac40cedb9e2e"
   },
   "outputs": [],
   "source": [
    "history.history"
   ]
  },
  {
   "cell_type": "code",
   "execution_count": null,
   "metadata": {
    "colab": {
     "base_uri": "https://localhost:8080/",
     "height": 353
    },
    "id": "0P_MA0oY_NYU",
    "outputId": "b57f2a51-ef32-46fc-ca25-4ba6a6815cca"
   },
   "outputs": [],
   "source": [
    "loss_plotter = plt.figure(figsize=(18,5)) \n",
    "mse_plot  = loss_plotter.add_subplot(121)\n",
    "mse_plot_1  = loss_plotter.add_subplot(122)\n",
    "\n",
    "mse_plot_1.plot(history.epoch,history.history[\"loss\"],history.history[\"val_loss\"] )\n",
    "mse_plot_1.set_xlabel(\"Epochs\")\n",
    "mse_plot_1.set_ylabel('Errors')\n",
    "mse_plot_1.legend([\"loss\",\"val_loss\"])\n",
    "\n",
    "\n",
    "mse_plot.plot(history.epoch,history.history[\"accuracy\"],history.history[\"val_accuracy\"])\n",
    "mse_plot.set_xlabel(\"Epochs\")\n",
    "mse_plot.set_ylabel('Accuracy')\n",
    "mse_plot.legend([\"accuracy\",\"val_accuracy\"])"
   ]
  },
  {
   "cell_type": "markdown",
   "metadata": {
    "id": "Bpimxy9pDfin"
   },
   "source": [
    "## TF Lite"
   ]
  },
  {
   "cell_type": "markdown",
   "metadata": {
    "id": "ZMhhvoMtDktp"
   },
   "source": [
    "Conversion"
   ]
  },
  {
   "cell_type": "code",
   "execution_count": null,
   "metadata": {
    "colab": {
     "base_uri": "https://localhost:8080/"
    },
    "id": "DcVg422pItEf",
    "outputId": "f5005079-34a5-4a9e-925d-409efe8bf564"
   },
   "outputs": [],
   "source": [
    "converter = tf.lite.TFLiteConverter.from_keras_model(visual_calculator_model)\n",
    "converter.optimization = tf.lite.Optimize.OPTIMIZE_FOR_SIZE\n",
    "tflite_model = converter.convert()"
   ]
  },
  {
   "cell_type": "code",
   "execution_count": null,
   "metadata": {
    "colab": {
     "base_uri": "https://localhost:8080/"
    },
    "id": "qkeXE4TVJEry",
    "outputId": "3cbfc2a8-36b1-4cce-ab2a-be53f38e1465"
   },
   "outputs": [],
   "source": [
    "open(root_folder +\"/vc_model.tflite\",\"wb\").write(tflite_model)"
   ]
  },
  {
   "cell_type": "markdown",
   "metadata": {
    "id": "9r13vsduDnRk"
   },
   "source": [
    "Size Comparison"
   ]
  },
  {
   "cell_type": "code",
   "execution_count": null,
   "metadata": {
    "colab": {
     "base_uri": "https://localhost:8080/"
    },
    "id": "kgYBq7yqJQ-7",
    "outputId": "85ec6260-005d-43c2-97fb-0b0534430641"
   },
   "outputs": [],
   "source": [
    "# print(f\"Root folder: {root_folder}\")\n",
    "open(root_folder +\"/vc_model.tflite\",\"wb\").write(tflite_model)\n",
    "print(\"Main Model Size :\" , round((os.path.getsize(root_folder +\"/vc_model.h5\"))/(1024*1024) ,3 ) , \"MB\")\n",
    "print(\"Lite Model Size :\" , round((os.path.getsize(root_folder +\"/vc_model.tflite\"))/(1024*1024),3 ), \"MB\"  )"
   ]
  },
  {
   "cell_type": "markdown",
   "metadata": {
    "id": "OjqJcT0oDr2K"
   },
   "source": [
    "TF Lite Prediction"
   ]
  },
  {
   "cell_type": "code",
   "execution_count": null,
   "metadata": {
    "colab": {
     "base_uri": "https://localhost:8080/"
    },
    "id": "B-IMMpCEKO5o",
    "outputId": "d9390780-7123-4fda-a600-1c09bd81b909",
    "scrolled": true
   },
   "outputs": [],
   "source": [
    "interpreter = tf.lite.Interpreter(root_folder +'/vc_model.tflite')\n",
    "\n",
    "input_details   = interpreter.get_input_details()\n",
    "output_details = interpreter.get_output_details()\n",
    "\n",
    "\n",
    "print(input_details)\n",
    "\n",
    "print(\"-\"*10)\n",
    "print(output_details)\n",
    "print(\"-\"*10)\n",
    "print(\"Input Shape:\", input_details[0]['shape'])\n",
    "print(\"Input Type:\", input_details[0]['dtype'])\n",
    "print(\"Output Shape:\", output_details[0]['shape'])\n",
    "print(\"Output Type:\", output_details[0]['dtype'])"
   ]
  },
  {
   "cell_type": "code",
   "execution_count": null,
   "metadata": {
    "colab": {
     "base_uri": "https://localhost:8080/"
    },
    "id": "yjztTzsTKubL",
    "outputId": "3dc89af1-732c-4def-efd3-10dd5d961d72"
   },
   "outputs": [],
   "source": [
    "interpreter.allocate_tensors()\n",
    "interpreter.set_tensor(input_details[0]['index'] , testing_image)\n",
    "interpreter.invoke()\n",
    "\n",
    "tflite_prediction_result = interpreter.get_tensor(output_details[0]['index'])\n",
    "print(\"Lite Model Predictions :\", labels[np.argmax(tflite_prediction_result)] , \"\\n\" )"
   ]
  },
  {
   "cell_type": "code",
   "execution_count": null,
   "metadata": {
    "id": "WoucqXWMMoZz"
   },
   "outputs": [],
   "source": []
  }
 ],
 "metadata": {
  "accelerator": "GPU",
  "colab": {
   "collapsed_sections": [],
   "name": "Visual Calculator.ipynb",
   "provenance": []
  },
  "gpuClass": "standard",
  "kernelspec": {
   "display_name": ".venv",
   "language": "python",
   "name": "python3"
  },
  "language_info": {
   "codemirror_mode": {
    "name": "ipython",
    "version": 3
   },
   "file_extension": ".py",
   "mimetype": "text/x-python",
   "name": "python",
   "nbconvert_exporter": "python",
   "pygments_lexer": "ipython3",
   "version": "3.12.3"
  }
 },
 "nbformat": 4,
 "nbformat_minor": 4
}
